{
 "cells": [
  {
   "cell_type": "code",
   "execution_count": 6,
   "metadata": {},
   "outputs": [
    {
     "name": "stdout",
     "output_type": "stream",
     "text": [
      "information_schema\n",
      "mysqldb\n"
     ]
    }
   ],
   "source": [
    "import mysql.connector\n",
    "conn = mysql.connector.connect (user='sqluser', password='sqlpass',\n",
    "                               host='mysql',buffered=True)\n",
    "cursor = conn.cursor()\n",
    "databases = (\"show databases\")\n",
    "cursor.execute(databases)\n",
    "for (databases) in cursor:\n",
    "     print(databases[0])"
   ]
  },
  {
   "cell_type": "code",
   "execution_count": 28,
   "metadata": {},
   "outputs": [
    {
     "data": {
      "text/plain": [
       "[('my_collection',)]"
      ]
     },
     "execution_count": 28,
     "metadata": {},
     "output_type": "execute_result"
    }
   ],
   "source": [
    "import mysql.connector\n",
    "conn = mysql.connector.connect (user='sqluser', password='sqlpass',\n",
    "                               host='mysql',buffered=True)\n",
    "\n",
    "cursor = conn.cursor()\n",
    "cursor.execute('use mysqldb')\n",
    "cursor.execute(\"show tables\") \n",
    "cursor.fetchall()"
   ]
  },
  {
   "cell_type": "code",
   "execution_count": 29,
   "metadata": {},
   "outputs": [
    {
     "name": "stdout",
     "output_type": "stream",
     "text": [
      "('customers',)\n",
      "('my_collection',)\n"
     ]
    }
   ],
   "source": [
    "import mysql.connector\n",
    "\n",
    "conn = mysql.connector.connect (user='sqluser', password='sqlpass',\n",
    "                               host='mysql',buffered=True)\n",
    "cursor = mydb.cursor()\n",
    "cursor.execute('use mysqldb')\n",
    "\n",
    "mycursor.execute(\"CREATE TABLE customers (name VARCHAR(255), address VARCHAR(255))\")\n",
    "mycursor.execute(\"SHOW TABLES\")\n",
    "\n",
    "for x in mycursor:\n",
    "  print(x)"
   ]
  },
  {
   "cell_type": "code",
   "execution_count": 4,
   "metadata": {},
   "outputs": [],
   "source": [
    "import mysqlx\n",
    "\n",
    "# Connect to server on localhost\n",
    "session = mysqlx.get_session({\n",
    "    'host': 'mysql',\n",
    "    'port': 33060,\n",
    "    'user': 'sqluser',\n",
    "    'password': 'sqlpass'\n",
    "})"
   ]
  },
  {
   "cell_type": "code",
   "execution_count": 11,
   "metadata": {},
   "outputs": [
    {
     "data": {
      "text/plain": [
       "<mysqlx.crud.Collection at 0x7f68664cfa30>"
      ]
     },
     "execution_count": 11,
     "metadata": {},
     "output_type": "execute_result"
    }
   ],
   "source": [
    "import mysqlx\n",
    "\n",
    "# Connect to server\n",
    "session = mysqlx.get_session(\n",
    "   host=\"mysql\",\n",
    "   port=33060,\n",
    "   user=\"root\",\n",
    "   password=\"password\")\n",
    "schema = session.get_schema('mysqldb')\n",
    "\n",
    "# Create 'my_collection' in schema\n",
    "schema.create_collection('my_collection', reuse_existing=True)"
   ]
  },
  {
   "cell_type": "code",
   "execution_count": 12,
   "metadata": {},
   "outputs": [
    {
     "data": {
      "text/plain": [
       "<mysqlx.result.Result at 0x7f68664cfee0>"
      ]
     },
     "execution_count": 12,
     "metadata": {},
     "output_type": "execute_result"
    }
   ],
   "source": [
    "\n",
    "# Get 'collection_GOT' from schema\n",
    "collection = schema.get_collection('my_collection')\n",
    "\n",
    "collection.add(\n",
    "    {\"name\": \"Bran\", \"family_name\": \"Stark\", \"age\": 18,\n",
    "     \"parents\": [\"Eddard Stark\", \"Catelyn Stark\"]},\n",
    "    {\"name\": \"Sansa\", \"family_name\": \"Stark\", \"age\": 21,\n",
    "     \"parents\": [\"Eddard Stark\", \"Catelyn Stark\"]},\n",
    "     {\"name\": \"Arya\", \"family_name\": \"Stark\", \"age\": 20,\n",
    "     \"parents\": [\"Eddard Stark\", \"Catelyn Stark\"]},\n",
    "    {\"name\": \"Jon\", \"family_name\": \"Snow\", \"age\": 30},\n",
    "    {\"name\": \"Daenerys\", \"family_name\": \"Targaryen\", \"age\": 30},\n",
    "    {\"name\": \"Margaery\", \"family_name\": \"Tyrell\", \"age\": 35},\n",
    "    {\"name\": \"Cersei\", \"family_name\": \"Lannister\", \"age\": 44,\n",
    "     \"parents\": [\"Tywin Lannister, Joanna Lannister\"]},\n",
    "    {\"name\": \"Tyrion\", \"family_name\": \"Lannister\", \"age\": 48,\n",
    "     \"parents\": [\"Tywin Lannister, Joanna Lannister\"]},\n",
    ").execute()"
   ]
  },
  {
   "cell_type": "code",
   "execution_count": 13,
   "metadata": {},
   "outputs": [
    {
     "name": "stdout",
     "output_type": "stream",
     "text": [
      "[{'_id': '00005f3d05300000000000000002', 'age': 18, 'name': 'Bran', 'parents': ['Eddard Stark', 'Catelyn Stark'], 'family_name': 'Stark'}, {'_id': '00005f3d05300000000000000003', 'age': 21, 'name': 'Sansa', 'parents': ['Eddard Stark', 'Catelyn Stark'], 'family_name': 'Stark'}, {'_id': '00005f3d05300000000000000004', 'age': 20, 'name': 'Arya', 'parents': ['Eddard Stark', 'Catelyn Stark'], 'family_name': 'Stark'}, {'_id': '00005f3d05300000000000000005', 'age': 30, 'name': 'Jon', 'family_name': 'Snow'}, {'_id': '00005f3d05300000000000000006', 'age': 30, 'name': 'Daenerys', 'family_name': 'Targaryen'}, {'_id': '00005f3d05300000000000000007', 'age': 35, 'name': 'Margaery', 'family_name': 'Tyrell'}, {'_id': '00005f3d05300000000000000008', 'age': 44, 'name': 'Cersei', 'parents': ['Tywin Lannister, Joanna Lannister'], 'family_name': 'Lannister'}, {'_id': '00005f3d05300000000000000009', 'age': 48, 'name': 'Tyrion', 'parents': ['Tywin Lannister, Joanna Lannister'], 'family_name': 'Lannister'}]\n"
     ]
    }
   ],
   "source": [
    "collection = schema.get_collection(\"my_collection\")\n",
    "\n",
    "print(collection.find().execute().fetch_all())"
   ]
  },
  {
   "cell_type": "code",
   "execution_count": 27,
   "metadata": {},
   "outputs": [
    {
     "name": "stdout",
     "output_type": "stream",
     "text": [
      "10\n",
      "11\n",
      "11\n"
     ]
    }
   ],
   "source": [
    "# Start transaction\n",
    "session.start_transaction()\n",
    "\n",
    "collection.add({\"name\": \"Wilma\", \"age\": 33}).execute()\n",
    "print(collection.count())\n",
    "\n",
    "# Create a savepoint\n",
    "session.set_savepoint(\"sp\")\n",
    "\n",
    "collection.add({\"name\": \"Barney\", \"age\": 42}).execute()\n",
    "print(collection.count())\n",
    "\n",
    "# Release a savepoint\n",
    "session.release_savepoint(\"sp\")\n",
    "\n",
    "print(collection.count())\n",
    "\n",
    "# Commit all operations\n",
    "session.commit()"
   ]
  }
 ],
 "metadata": {
  "kernelspec": {
   "display_name": "Python 3",
   "language": "python",
   "name": "python3"
  },
  "language_info": {
   "codemirror_mode": {
    "name": "ipython",
    "version": 3
   },
   "file_extension": ".py",
   "mimetype": "text/x-python",
   "name": "python",
   "nbconvert_exporter": "python",
   "pygments_lexer": "ipython3",
   "version": "3.8.2"
  }
 },
 "nbformat": 4,
 "nbformat_minor": 4
}
